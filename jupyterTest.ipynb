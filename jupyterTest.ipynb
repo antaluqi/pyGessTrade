{
 "nbformat": 4,
 "nbformat_minor": 2,
 "metadata": {
  "language_info": {
   "name": "python",
   "codemirror_mode": {
    "name": "ipython",
    "version": 3
   },
   "version": "3.7.6-final"
  },
  "orig_nbformat": 2,
  "file_extension": ".py",
  "mimetype": "text/x-python",
  "name": "python",
  "npconvert_exporter": "python",
  "pygments_lexer": "ipython3",
  "version": 3,
  "kernelspec": {
   "name": "python3",
   "display_name": "Python 3"
  }
 },
 "cells": [
  {
   "cell_type": "code",
   "execution_count": 1,
   "metadata": {},
   "outputs": [
    {
     "output_type": "stream",
     "name": "stdout",
     "text": "登陆成功\n"
    }
   ],
   "source": [
    "import api.GressTrade as gt\n",
    "import pprint\n",
    "import time\n",
    "\n",
    "# 登录\n",
    "api=gt.API()\n",
    "islog,logMasg=api.login('1021805322','615919')\n",
    "print(logMasg)"
   ]
  },
  {
   "cell_type": "code",
   "execution_count": null,
   "metadata": {},
   "outputs": [],
   "source": [
    "# 获取交易信息\n",
    "api.getTradeInfo()\n",
    ""
   ]
  },
  {
   "cell_type": "code",
   "execution_count": 4,
   "metadata": {},
   "outputs": [
    {
     "output_type": "execute_result",
     "data": {
      "text/plain": "'02:30:00: 338.0'"
     },
     "metadata": {},
     "execution_count": 4
    }
   ],
   "source": [
    "# 获取报价\n",
    "api.getQuote2()\n",
    "str(api.quote.mautd.quoteTime)+': '+str(api.quote.mautd.last)\n",
    ""
   ]
  },
  {
   "cell_type": "code",
   "execution_count": null,
   "metadata": {
    "tags": [
     "outputPrepend",
     "outputPrepend"
    ]
   },
   "outputs": [],
   "source": [
    "api.getQuote_step()"
   ]
  },
  {
   "cell_type": "code",
   "execution_count": null,
   "metadata": {},
   "outputs": [],
   "source": [
    "import datetime\n",
    "#t=datetime.datetime.now()\n",
    "t=datetime.datetime(2020,3,20,14,30,34,0)\n",
    "t11=datetime.time(0,0,0)\n",
    "t12=datetime.time(2,30,0)\n",
    "t21=datetime.time(9,0,0)\n",
    "t22=datetime.time(15,30,0)\n",
    "t31=datetime.time(20,0,0)\n",
    "t32=datetime.time(23,59,0)\n",
    "\n",
    "out=1\n",
    "# 所有日子的非交易时间段\n",
    "if (t.time()>=t12 and t.time()<t21) or (t.time()>=t22 and t.time()<t31):\n",
    "    out=-1\n",
    "# 周日全天\n",
    "if t.weekday()==6:\n",
    "    out=-2\n",
    "# 周一九点前\n",
    "if t.weekday()==0 and t.time()<t21:\n",
    "    out=-3\n",
    "# 周六2点后\n",
    "if t.weekday()==5 and t.time()>=t12:\n",
    "    out=-4\n",
    "print(out)\n",
    "\n",
    "\n",
    "\n"
   ]
  },
  {
   "cell_type": "code",
   "execution_count": null,
   "metadata": {},
   "outputs": [],
   "source": [
    "import api.Comm as Comm\n",
    "Comm.isTradeTime()"
   ]
  },
  {
   "cell_type": "code",
   "execution_count": null,
   "metadata": {},
   "outputs": [],
   "source": []
  }
 ]
}