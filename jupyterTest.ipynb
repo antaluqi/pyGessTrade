{
 "nbformat": 4,
 "nbformat_minor": 2,
 "metadata": {
  "language_info": {
   "name": "python",
   "codemirror_mode": {
    "name": "ipython",
    "version": 3
   },
   "version": "3.7.6-final"
  },
  "orig_nbformat": 2,
  "file_extension": ".py",
  "mimetype": "text/x-python",
  "name": "python",
  "npconvert_exporter": "python",
  "pygments_lexer": "ipython3",
  "version": 3,
  "kernelspec": {
   "name": "python3",
   "display_name": "Python 3"
  }
 },
 "cells": [
  {
   "cell_type": "code",
   "execution_count": 1,
   "metadata": {},
   "outputs": [
    {
     "output_type": "stream",
     "name": "stdout",
     "text": "登陆成功\n"
    }
   ],
   "source": [
    "import GressTrade as gt\n",
    "import pprint\n",
    "import time\n",
    "\n",
    "# 登录\n",
    "api=gt.API()\n",
    "islog,logMasg=api.login('1021805322','615919')\n",
    "print(logMasg)"
   ]
  },
  {
   "cell_type": "code",
   "execution_count": null,
   "metadata": {},
   "outputs": [],
   "source": [
    "# 获取交易信息\n",
    "api.getTradeInfo()"
   ]
  },
  {
   "cell_type": "code",
   "execution_count": 5,
   "metadata": {},
   "outputs": [
    {
     "output_type": "execute_result",
     "data": {
      "text/plain": "338.49"
     },
     "metadata": {},
     "execution_count": 5
    }
   ],
   "source": [
    "# 获取报价\n",
    "api.getQuote()\n",
    "api.quote.mautd.last\n",
    ""
   ]
  },
  {
   "cell_type": "code",
   "execution_count": 6,
   "metadata": {},
   "outputs": [
    {
     "output_type": "execute_result",
     "data": {
      "text/plain": "'AcctNos'"
     },
     "metadata": {},
     "execution_count": 6
    }
   ],
   "source": [
    "FieldName={\n",
    "    48 : 'AcctNos',\n",
    "    31 : 'ApiName',\n",
    "    32 : 'BranchIDs',\n",
    "    33 : 'CheckFlag',\n",
    "    34 : 'CustTypeIDs',\n",
    "    35 : 'DataType',\n",
    "    36 : 'ExchDate',\n",
    "    37 : 'GessBankId'\n",
    "    }\n",
    "FieldName[48]"
   ]
  },
  {
   "cell_type": "code",
   "execution_count": null,
   "metadata": {},
   "outputs": [],
   "source": []
  }
 ]
}