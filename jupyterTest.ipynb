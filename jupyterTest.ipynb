{
 "nbformat": 4,
 "nbformat_minor": 2,
 "metadata": {
  "language_info": {
   "name": "python",
   "codemirror_mode": {
    "name": "ipython",
    "version": 3
   },
   "version": "3.7.6-final"
  },
  "orig_nbformat": 2,
  "file_extension": ".py",
  "mimetype": "text/x-python",
  "name": "python",
  "npconvert_exporter": "python",
  "pygments_lexer": "ipython3",
  "version": 3,
  "kernelspec": {
   "name": "python3",
   "display_name": "Python 3"
  }
 },
 "cells": [
  {
   "cell_type": "code",
   "execution_count": 1,
   "metadata": {},
   "outputs": [
    {
     "output_type": "stream",
     "name": "stdout",
     "text": "登陆成功\n"
    }
   ],
   "source": [
    "import api.GressTrade as gt\n",
    "import pprint\n",
    "import time\n",
    "\n",
    "# 登录\n",
    "api=gt.API()\n",
    "islog,logMasg=api.login('1021805322','615919')\n",
    "print(logMasg)"
   ]
  },
  {
   "cell_type": "code",
   "execution_count": null,
   "metadata": {},
   "outputs": [],
   "source": [
    "# 获取客户信息\n",
    "api.getCustInfo()"
   ]
  },
  {
   "cell_type": "code",
   "execution_count": 2,
   "metadata": {},
   "outputs": [
    {
     "output_type": "stream",
     "name": "stdout",
     "text": "00004261604e22 160021032 1021805322    B00100000001#rsp_msg=安全检查失败，系统拒绝访问！#\n"
    },
    {
     "output_type": "error",
     "ename": "KeyError",
     "evalue": "'oper_flag'",
     "traceback": [
      "\u001b[1;31m---------------------------------------------------------------------------\u001b[0m",
      "\u001b[1;31mKeyError\u001b[0m                                  Traceback (most recent call last)",
      "\u001b[1;32m<ipython-input-2-a64dd1665bbb>\u001b[0m in \u001b[0;36m<module>\u001b[1;34m\u001b[0m\n\u001b[0;32m      1\u001b[0m \u001b[1;31m# 获取交易信息\u001b[0m\u001b[1;33m\u001b[0m\u001b[1;33m\u001b[0m\u001b[1;33m\u001b[0m\u001b[0m\n\u001b[1;32m----> 2\u001b[1;33m \u001b[0mapi\u001b[0m\u001b[1;33m.\u001b[0m\u001b[0mgetTradeInfo\u001b[0m\u001b[1;33m(\u001b[0m\u001b[1;33m)\u001b[0m\u001b[1;33m\u001b[0m\u001b[1;33m\u001b[0m\u001b[0m\n\u001b[0m",
      "\u001b[1;32md:\\Daniel\\Python\\pyGessTrade\\api\\GressTrade.py\u001b[0m in \u001b[0;36mgetTradeInfo\u001b[1;34m(self)\u001b[0m\n\u001b[0;32m    325\u001b[0m         \u001b[0malm_view\u001b[0m \u001b[1;33m=\u001b[0m \u001b[0mTrans\u001b[0m\u001b[1;33m.\u001b[0m\u001b[0mAlm_View\u001b[0m\u001b[1;33m(\u001b[0m\u001b[1;33m)\u001b[0m\u001b[1;33m\u001b[0m\u001b[1;33m\u001b[0m\u001b[0m\n\u001b[0;32m    326\u001b[0m         \u001b[0mprint\u001b[0m\u001b[1;33m(\u001b[0m\u001b[0mtradeInfo_str\u001b[0m\u001b[1;33m)\u001b[0m\u001b[1;33m\u001b[0m\u001b[1;33m\u001b[0m\u001b[0m\n\u001b[1;32m--> 327\u001b[1;33m         \u001b[0malm_view\u001b[0m\u001b[1;33m.\u001b[0m\u001b[0mfromString\u001b[0m\u001b[1;33m(\u001b[0m\u001b[0mtradeInfo_str\u001b[0m\u001b[1;33m)\u001b[0m\u001b[1;33m\u001b[0m\u001b[1;33m\u001b[0m\u001b[0m\n\u001b[0m\u001b[0;32m    328\u001b[0m         \u001b[1;32mreturn\u001b[0m \u001b[0malm_view\u001b[0m\u001b[1;33m.\u001b[0m\u001b[0mtoDict\u001b[0m\u001b[1;33m(\u001b[0m\u001b[1;33m)\u001b[0m\u001b[1;33m\u001b[0m\u001b[1;33m\u001b[0m\u001b[0m\n\u001b[0;32m    329\u001b[0m \u001b[1;33m\u001b[0m\u001b[0m\n",
      "\u001b[1;32md:\\Daniel\\Python\\pyGessTrade\\api\\Trans.py\u001b[0m in \u001b[0;36mfromString\u001b[1;34m(self, infoStr)\u001b[0m\n\u001b[0;32m    678\u001b[0m         \u001b[0mreDict\u001b[0m \u001b[1;33m=\u001b[0m \u001b[1;33m{\u001b[0m\u001b[1;33m}\u001b[0m\u001b[1;33m\u001b[0m\u001b[1;33m\u001b[0m\u001b[0m\n\u001b[0;32m    679\u001b[0m         \u001b[0mreDict\u001b[0m\u001b[1;33m.\u001b[0m\u001b[0mupdate\u001b[0m\u001b[1;33m(\u001b[0m\u001b[0mreList\u001b[0m\u001b[1;33m)\u001b[0m\u001b[1;33m\u001b[0m\u001b[1;33m\u001b[0m\u001b[0m\n\u001b[1;32m--> 680\u001b[1;33m         \u001b[1;32mif\u001b[0m \u001b[0mreDict\u001b[0m\u001b[1;33m[\u001b[0m\u001b[1;34m'oper_flag'\u001b[0m\u001b[1;33m]\u001b[0m \u001b[1;33m==\u001b[0m \u001b[1;34m'0'\u001b[0m\u001b[1;33m:\u001b[0m\u001b[1;33m\u001b[0m\u001b[1;33m\u001b[0m\u001b[0m\n\u001b[0m\u001b[0;32m    681\u001b[0m             \u001b[1;32mreturn\u001b[0m \u001b[1;32mFalse\u001b[0m\u001b[1;33m,\u001b[0m \u001b[0mreDict\u001b[0m\u001b[1;33m[\u001b[0m\u001b[1;34m'rsp_msg'\u001b[0m\u001b[1;33m]\u001b[0m\u001b[1;33m\u001b[0m\u001b[1;33m\u001b[0m\u001b[0m\n\u001b[0;32m    682\u001b[0m         \u001b[0mself\u001b[0m\u001b[1;33m.\u001b[0m\u001b[0mrsp_msg\u001b[0m \u001b[1;33m=\u001b[0m \u001b[0mreDict\u001b[0m\u001b[1;33m[\u001b[0m\u001b[1;34m'rsp_msg'\u001b[0m\u001b[1;33m]\u001b[0m\u001b[1;33m\u001b[0m\u001b[1;33m\u001b[0m\u001b[0m\n",
      "\u001b[1;31mKeyError\u001b[0m: 'oper_flag'"
     ]
    }
   ],
   "source": [
    "# 获取交易信息\n",
    "api.getTradeInfo()\n",
    ""
   ]
  },
  {
   "cell_type": "code",
   "execution_count": null,
   "metadata": {},
   "outputs": [],
   "source": [
    "api.getQuote2()\n",
    "print(\"ask1=:%0.2f\"%(api.quote.mautd.ask1))\n",
    "print(\"bid1=:%0.2f\"%(api.quote.mautd.bid1))\n",
    "print(\"last=:%0.2f\"%(api.quote.mautd.last))\n",
    "api.getCustInfo()\n",
    "print(\"可用资金:%0.2f\"%(api.custInfo.f_can_use_bal))\n",
    "if len(api.custInfo.htm_td_info)>0:\n",
    "    print(\"可用多单:%0.2f\"%(api.custInfo.htm_td_info[0].td_can_use_long))\n",
    "    print(\"可用空单:%0.2f\"%(api.custInfo.htm_td_info[0].td_can_use_short))\n",
    "else:\n",
    "    print(\"可用多单:%0.2f\"%(0))\n",
    "    print(\"可用空单:%0.2f\"%(0))\n",
    "print(api.quote.mautd.toDict())\n",
    ""
   ]
  },
  {
   "cell_type": "code",
   "execution_count": null,
   "metadata": {},
   "outputs": [],
   "source": [
    "'''一键多单'''\n",
    "import math\n",
    "isc=True\n",
    "api.getQuote2()\n",
    "api.getCustInfo()\n",
    "# 可用空单\n",
    "td_can_use_short=api.custInfo.htm_td_info[0].td_can_use_short\n",
    "# 买1\n",
    "ask1=api.quote.mautd.ask1\n",
    "if isc and td_can_use_short!=0:\n",
    "   print(api.trade('mautd','cs',td_can_use_short))\n",
    "# 可用资金\n",
    "f_can_use_bal=api.custInfo.f_can_use_bal\n",
    "# 卖1\n",
    "bid1=api.quote.mautd.bid1\n",
    "# 可买数量\n",
    "amount=math.floor(f_can_use_bal/(bid1*100*0.15))\n",
    "if amount!=0:\n",
    "    api.trade('mautd','ob',bid1,amount)\n",
    "else:\n",
    "    print('可用资金不足')\n",
    "\n"
   ]
  },
  {
   "cell_type": "code",
   "execution_count": null,
   "metadata": {},
   "outputs": [],
   "source": [
    "print(api.trade('mAu(T+D)','cs',362.68,1))"
   ]
  },
  {
   "cell_type": "code",
   "execution_count": null,
   "metadata": {},
   "outputs": [],
   "source": []
  }
 ]
}