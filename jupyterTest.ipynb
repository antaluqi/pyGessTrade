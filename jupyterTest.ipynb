{
 "nbformat": 4,
 "nbformat_minor": 2,
 "metadata": {
  "language_info": {
   "name": "python",
   "codemirror_mode": {
    "name": "ipython",
    "version": 3
   },
   "version": "3.7.6-final"
  },
  "orig_nbformat": 2,
  "file_extension": ".py",
  "mimetype": "text/x-python",
  "name": "python",
  "npconvert_exporter": "python",
  "pygments_lexer": "ipython3",
  "version": 3,
  "kernelspec": {
   "name": "python3",
   "display_name": "Python 3"
  }
 },
 "cells": [
  {
   "cell_type": "code",
   "execution_count": 1,
   "metadata": {},
   "outputs": [
    {
     "output_type": "stream",
     "name": "stdout",
     "text": "登陆成功\n"
    }
   ],
   "source": [
    "import api.GressTrade as gt\n",
    "import pprint\n",
    "import time\n",
    "\n",
    "# 登录\n",
    "api=gt.API()\n",
    "islog,logMasg=api.login('1021805322','615919')\n",
    "print(logMasg)"
   ]
  },
  {
   "cell_type": "code",
   "execution_count": 7,
   "metadata": {},
   "outputs": [
    {
     "output_type": "execute_result",
     "data": {
      "text/plain": "{'rsp_msg': '处理成功',\n 'oper_flag': 1,\n 'c_acct_no': '1021805322',\n 'c_cust_id': '1021805322',\n 'c_account_no': '18218100092989',\n 'c_open_bank_name': '杭州银行',\n 'c_cust_abbr': '高麟琪',\n 'c_b_fare_model_id': 'F00002',\n 'c_m_fare_model_id': 'F01502',\n 'c_acct_type': 3,\n 'c_ocma_flag': 0,\n 'c_acct_stat': 1,\n 'c_cert_type': 's',\n 'c_cert_num': '339005198307244812',\n 'c_branch_id': 'B00151853',\n 'f_currency_id': 1,\n 'f_curr_bal': 10710.53,\n 'f_can_use_bal': 2816.49,\n 'f_can_get_bal': 2660.49,\n 'f_in_bal': 0.0,\n 'f_out_bal': 0.0,\n 'f_buy_bal': 0.0,\n 'f_sell_bal': 0.0,\n 'f_exch_froz_bal': 0.0,\n 'f_posi_margin': -7894.04,\n 'f_base_margin': 0.0,\n 'f_take_margin': 0.0,\n 'f_stor_margin': 0.0,\n 'f_pt_reserve': 0.0,\n 'f_ag_margin': 0.0,\n 'f_forward_froz': 0.0,\n 'f_exch_fare': 0.0,\n 'r_surplus': -156.0,\n 'f_offset_quota': 0.0,\n 'f_avaliable_offset_quota': 0.0,\n 'f_used_offset_quota': 0.0,\n 'f_offset_entr_margin': 0.0,\n 'htm_td_info': [{'td_day_cov_long_froz': 0,\n   'td_day_cov_short_froz': 0,\n   'td_short_open_avg_price': 0.0,\n   'td_long_amt': 2,\n   'td_day_open_short': 0,\n   'td_day_deli_short': 0,\n   'td_day_open_long': 0,\n   'td_day_deli_long_forz': 0,\n   'td_short_amt': 0,\n   'td_day_cov_short': 0,\n   'td_day_settle_price': 0.0,\n   'td_last_settle_price': 358.82,\n   'td_long_posi_avg_price': 358.82,\n   'td_can_use_short': 0,\n   'td_long_margin': 7894.04,\n   'td_long_open_avg_price': 358.97,\n   'td_prod_code': 'mAu(T+D)',\n   'td_day_cov_long': 0,\n   'td_short_margin': 0.0,\n   'td_day_deli_long': 0,\n   'td_day_deli_short_forz': 0,\n   'td_short_posi_avg_price': 0.0,\n   'td_can_use_long': 2}]}"
     },
     "metadata": {},
     "execution_count": 7
    }
   ],
   "source": [
    "api.getCustInfo()"
   ]
  },
  {
   "cell_type": "code",
   "execution_count": null,
   "metadata": {},
   "outputs": [],
   "source": [
    "# 获取交易信息\n",
    "api.getTradeInfo()\n",
    ""
   ]
  },
  {
   "cell_type": "code",
   "execution_count": null,
   "metadata": {},
   "outputs": [],
   "source": [
    "# 获取报价\n",
    "i=0\n",
    "while i<100:\n",
    "  api.getQuote2()\n",
    "  print(str(api.quote.mautd.quoteTime)+'|'+str(api.quote.mautd.sequenceNo)+'|: '+str(api.quote.mautd.last))\n",
    "  i+=1\n",
    ""
   ]
  },
  {
   "cell_type": "code",
   "execution_count": null,
   "metadata": {
    "tags": [
     "outputPrepend",
     "outputPrepend"
    ]
   },
   "outputs": [],
   "source": [
    "api.getQuote_step()"
   ]
  },
  {
   "cell_type": "code",
   "execution_count": null,
   "metadata": {},
   "outputs": [],
   "source": [
    "import api.Comm as Comm\n",
    "Comm.isTradeTime()"
   ]
  },
  {
   "cell_type": "code",
   "execution_count": null,
   "metadata": {},
   "outputs": [],
   "source": [
    "api.Close()"
   ]
  },
  {
   "cell_type": "code",
   "execution_count": 2,
   "metadata": {},
   "outputs": [
    {
     "output_type": "stream",
     "name": "stdout",
     "text": "66666666666666666\n非交易时间段只进行一次价格查询\n"
    }
   ],
   "source": [
    "api.getQuote2()"
   ]
  },
  {
   "cell_type": "code",
   "execution_count": null,
   "metadata": {},
   "outputs": [],
   "source": []
  }
 ]
}